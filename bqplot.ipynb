{
 "cells": [
  {
   "cell_type": "code",
   "execution_count": null,
   "id": "758b6f46-dcfc-40a1-a5cf-72fc69f6e769",
   "metadata": {},
   "outputs": [],
   "source": [
    "import bqplot.pyplot as plt\n",
    "import numpy as np\n",
    "\n",
    "# create data vectors x and y to plot using a Lines mark\n",
    "x = np.linspace(-10, 10, 100)\n",
    "y = np.sin(x)\n",
    "\n",
    "# 1. Create the figure object\n",
    "fig = plt.figure(title=\"Line Chart\")\n",
    "\n",
    "# 2. By default axes are created with basic defaults. If you want to customize the axes create\n",
    "# a dict and pass it to axes_options argument in the marks\n",
    "axes_opts = {\"x\": {\"label\": \"X\"}, \"y\": {\"label\": \"Y\"}}\n",
    "\n",
    "# 3. Create a Lines mark by calling plt.plot function\n",
    "line = plt.plot(\n",
    "    x=x, y=y, axes_options=axes_opts\n",
    ")  # note that custom axes options are passed to the mark function\n",
    "\n",
    "# 4. Render the figure using plt.show() (displays toolbar as well)\n",
    "plt.show()"
   ]
  },
  {
   "cell_type": "code",
   "execution_count": null,
   "id": "9d00f5e0-842e-464c-87ca-4c70a919ca5a",
   "metadata": {},
   "outputs": [],
   "source": []
  }
 ],
 "metadata": {
  "kernelspec": {
   "display_name": "Python 3 (ipykernel)",
   "language": "python",
   "name": "python3"
  },
  "language_info": {
   "codemirror_mode": {
    "name": "ipython",
    "version": 3
   },
   "file_extension": ".py",
   "mimetype": "text/x-python",
   "name": "python",
   "nbconvert_exporter": "python",
   "pygments_lexer": "ipython3",
   "version": "3.13.2"
  }
 },
 "nbformat": 4,
 "nbformat_minor": 5
}
